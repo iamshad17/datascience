{
  "nbformat": 4,
  "nbformat_minor": 0,
  "metadata": {
    "colab": {
      "name": "Exercise API.ipynb",
      "version": "0.3.2",
      "provenance": [],
      "collapsed_sections": [],
      "include_colab_link": true
    },
    "kernelspec": {
      "name": "python3",
      "display_name": "Python 3"
    }
  },
  "cells": [
    {
      "cell_type": "markdown",
      "metadata": {
        "id": "view-in-github",
        "colab_type": "text"
      },
      "source": [
        "<a href=\"https://colab.research.google.com/github/iamshirdi/Datascience/blob/master/python/Exercise_API.ipynb\" target=\"_parent\"><img src=\"https://colab.research.google.com/assets/colab-badge.svg\" alt=\"Open In Colab\"/></a>"
      ]
    },
    {
      "cell_type": "markdown",
      "metadata": {
        "id": "GphcSNQohjTH",
        "colab_type": "text"
      },
      "source": [
        " <h4> You are to look through all the comment tags and find the count values then sum the numbers .\n",
        "  <hr>\n",
        "   An XPath selector string to look through the entire tree of XML for any tag named 'count' with the following line of code: "
      ]
    },
    {
      "cell_type": "code",
      "metadata": {
        "id": "MA-U9qxhhNVX",
        "colab_type": "code",
        "colab": {
          "base_uri": "https://localhost:8080/",
          "height": 53
        },
        "outputId": "439d4aaf-81fd-4c7f-cc10-570ef25911af"
      },
      "source": [
        "#http://py4e-data.dr-chuck.net/comments_42.xml\n",
        "import urllib.request, urllib.parse, urllib.error\n",
        "import xml.etree.ElementTree as ET\n",
        "import ssl\n",
        "\n",
        "\n",
        "# Ignore SSL certificate errors\n",
        "ctx = ssl.create_default_context()\n",
        "ctx.check_hostname = False\n",
        "ctx.verify_mode = ssl.CERT_NONE\n",
        "\n",
        "\n",
        "address = 'http://py4e-data.dr-chuck.net/comments_42.xml'\n",
        "\n",
        "uh = urllib.request.urlopen(address, context=ctx)\n",
        "\n",
        "data = uh.read()\n",
        "print('Retrieved', len(data), 'characters')\n",
        "dec=data.decode()\n",
        "# print(dec)\n",
        "tree = ET.fromstring(dec)\n",
        "tree.tag\n",
        "\n",
        "all = tree.findall('.//count')\n",
        "s=0\n",
        "for i in all:\n",
        "  s+=int(i.text)\n",
        "#     location = results[0].find('formatted_address').text\n",
        "\n",
        "print('sum=',s)"
      ],
      "execution_count": 44,
      "outputs": [
        {
          "output_type": "stream",
          "text": [
            "Retrieved 4189 characters\n",
            "sum:  2553\n"
          ],
          "name": "stdout"
        }
      ]
    },
    {
      "cell_type": "markdown",
      "metadata": {
        "id": "H8jSKYCJxkAq",
        "colab_type": "text"
      },
      "source": [
        "<h4>Element.findall() finds only elements with a tag which are direct children of the current element. Element.find() finds the first child with a particular tag, and Element.text accesses the element’s text content. Element.get() accesses the element’s attributes:"
      ]
    },
    {
      "cell_type": "code",
      "metadata": {
        "id": "Q3M124AhiKgu",
        "colab_type": "code",
        "colab": {
          "base_uri": "https://localhost:8080/",
          "height": 308
        },
        "outputId": "f5b4fba5-1e34-4fb2-beb5-dd86745c1963"
      },
      "source": [
        "\n",
        "import urllib.request, urllib.parse, urllib.error\n",
        "import xml.etree.ElementTree as ET\n",
        "import ssl\n",
        "\n",
        "\n",
        "# Ignore SSL certificate errors\n",
        "ctx = ssl.create_default_context()\n",
        "ctx.check_hostname = False\n",
        "ctx.verify_mode = ssl.CERT_NONE\n",
        "\n",
        "\n",
        "address = 'http://py4e-data.dr-chuck.net/comments_239078.xml'\n",
        "\n",
        "uh = urllib.request.urlopen(address, context=ctx)\n",
        "\n",
        "data = uh.read()\n",
        "print('Retrieved', len(data), 'characters')\n",
        "dec=data.decode()\n",
        "# print(dec)\n",
        "tree = ET.fromstring(dec)\n",
        "root=tree.tag\n",
        "print(root)\n",
        "\n",
        "all = tree.findall('comments/comment')\n",
        "sum=0\n",
        "for i in all: #list object can directly induce too has all[0] and all[1]\n",
        "  ct = i.find('count').text\n",
        "  if sum<1000:print(ct)\n",
        "  sum+=int(ct)\n",
        "print('sum =',sum)"
      ],
      "execution_count": 57,
      "outputs": [
        {
          "output_type": "stream",
          "text": [
            "Retrieved 4219 characters\n",
            "commentinfo\n",
            "97\n",
            "91\n",
            "88\n",
            "85\n",
            "85\n",
            "84\n",
            "81\n",
            "79\n",
            "76\n",
            "72\n",
            "72\n",
            "71\n",
            "67\n",
            "sum = 2150\n"
          ],
          "name": "stdout"
        }
      ]
    },
    {
      "cell_type": "code",
      "metadata": {
        "id": "NAsdYNUnwqdq",
        "colab_type": "code",
        "colab": {}
      },
      "source": [
        ""
      ],
      "execution_count": 0,
      "outputs": []
    }
  ]
}