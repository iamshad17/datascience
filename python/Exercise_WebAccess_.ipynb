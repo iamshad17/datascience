{
  "nbformat": 4,
  "nbformat_minor": 0,
  "metadata": {
    "colab": {
      "name": "Exercise WebAccess .ipynb",
      "version": "0.3.2",
      "provenance": [],
      "collapsed_sections": [],
      "include_colab_link": true
    },
    "kernelspec": {
      "name": "python3",
      "display_name": "Python 3"
    }
  },
  "cells": [
    {
      "cell_type": "markdown",
      "metadata": {
        "id": "view-in-github",
        "colab_type": "text"
      },
      "source": [
        "<a href=\"https://colab.research.google.com/github/iamshirdi/Datascience/blob/master/python/Exercise_WebAccess_.ipynb\" target=\"_parent\"><img src=\"https://colab.research.google.com/assets/colab-badge.svg\" alt=\"Open In Colab\"/></a>"
      ]
    },
    {
      "cell_type": "code",
      "metadata": {
        "id": "_KcOdpEG3Hrw",
        "colab_type": "code",
        "colab": {
          "base_uri": "https://localhost:8080/",
          "height": 328
        },
        "outputId": "accabca9-e28f-4474-bd6a-7f3ba6856e0e"
      },
      "source": [
        "cat /etc/*-release"
      ],
      "execution_count": 3,
      "outputs": [
        {
          "output_type": "stream",
          "text": [
            "DISTRIB_ID=Ubuntu\n",
            "DISTRIB_RELEASE=18.04\n",
            "DISTRIB_CODENAME=bionic\n",
            "DISTRIB_DESCRIPTION=\"Ubuntu 18.04.2 LTS\"\n",
            "NAME=\"Ubuntu\"\n",
            "VERSION=\"18.04.2 LTS (Bionic Beaver)\"\n",
            "ID=ubuntu\n",
            "ID_LIKE=debian\n",
            "PRETTY_NAME=\"Ubuntu 18.04.2 LTS\"\n",
            "VERSION_ID=\"18.04\"\n",
            "HOME_URL=\"https://www.ubuntu.com/\"\n",
            "SUPPORT_URL=\"https://help.ubuntu.com/\"\n",
            "BUG_REPORT_URL=\"https://bugs.launchpad.net/ubuntu/\"\n",
            "PRIVACY_POLICY_URL=\"https://www.ubuntu.com/legal/terms-and-policies/privacy-policy\"\n",
            "VERSION_CODENAME=bionic\n",
            "UBUNTU_CODENAME=bionic\n"
          ],
          "name": "stdout"
        }
      ]
    },
    {
      "cell_type": "code",
      "metadata": {
        "id": "CxKhqD6J3Nfb",
        "colab_type": "code",
        "colab": {
          "base_uri": "https://localhost:8080/",
          "height": 655
        },
        "outputId": "1e605c9c-5c72-4bd7-8a5a-2dc6d99d6ff9"
      },
      "source": [
        "!sudo apt-get install telnet"
      ],
      "execution_count": 4,
      "outputs": [
        {
          "output_type": "stream",
          "text": [
            "Reading package lists... Done\n",
            "Building dependency tree       \n",
            "Reading state information... Done\n",
            "The following package was automatically installed and is no longer required:\n",
            "  libnvidia-common-410\n",
            "Use 'sudo apt autoremove' to remove it.\n",
            "The following additional packages will be installed:\n",
            "  netbase\n",
            "The following NEW packages will be installed:\n",
            "  netbase telnet\n",
            "0 upgraded, 2 newly installed, 0 to remove and 8 not upgraded.\n",
            "Need to get 79.8 kB of archives.\n",
            "After this operation, 210 kB of additional disk space will be used.\n",
            "Get:1 http://archive.ubuntu.com/ubuntu bionic/main amd64 netbase all 5.4 [12.7 kB]\n",
            "Get:2 http://archive.ubuntu.com/ubuntu bionic/main amd64 telnet amd64 0.17-41 [67.1 kB]\n",
            "Fetched 79.8 kB in 0s (1,004 kB/s)\n",
            "debconf: unable to initialize frontend: Dialog\n",
            "debconf: (No usable dialog-like program is installed, so the dialog based frontend cannot be used. at /usr/share/perl5/Debconf/FrontEnd/Dialog.pm line 76, <> line 2.)\n",
            "debconf: falling back to frontend: Readline\n",
            "debconf: unable to initialize frontend: Readline\n",
            "debconf: (This frontend requires a controlling tty.)\n",
            "debconf: falling back to frontend: Teletype\n",
            "dpkg-preconfigure: unable to re-open stdin: \n",
            "Selecting previously unselected package netbase.\n",
            "(Reading database ... 130912 files and directories currently installed.)\n",
            "Preparing to unpack .../archives/netbase_5.4_all.deb ...\n",
            "Unpacking netbase (5.4) ...\n",
            "Selecting previously unselected package telnet.\n",
            "Preparing to unpack .../telnet_0.17-41_amd64.deb ...\n",
            "Unpacking telnet (0.17-41) ...\n",
            "Processing triggers for man-db (2.8.3-2ubuntu0.1) ...\n",
            "Setting up netbase (5.4) ...\n",
            "Setting up telnet (0.17-41) ...\n",
            "update-alternatives: using /usr/bin/telnet.netkit to provide /usr/bin/telnet (telnet) in auto mode\n"
          ],
          "name": "stdout"
        }
      ]
    },
    {
      "cell_type": "code",
      "metadata": {
        "id": "tZb6GGwr3R1A",
        "colab_type": "code",
        "colab": {
          "base_uri": "https://localhost:8080/",
          "height": 164
        },
        "outputId": "3baad75f-9395-4b17-cedb-a5c8e6c05110"
      },
      "source": [
        "!ps -l"
      ],
      "execution_count": 6,
      "outputs": [
        {
          "output_type": "stream",
          "text": [
            "F S   UID     PID    PPID  C PRI  NI ADDR SZ WCHAN  TTY          TIME CMD\n",
            "4 S     0       1       0  0  80   0 -  9798 wait   ?        00:00:00 run.sh\n",
            "4 S     0       7       1  0  80   0 - 170020 ep_pol ?       00:00:00 node\n",
            "4 S     0      23       7  0  80   0 - 118984 ep_pol ?       00:00:02 jupyter-no\n",
            "4 S     0     148       0  0  80   0 -  8971 hrtime ?        00:00:00 tail\n",
            "4 S     0     157      23  1  80   0 - 148008 poll_s ?       00:00:02 python3\n",
            "0 R     0     330     157  0  80   0 - 12644 -      ?        00:00:00 ps\n"
          ],
          "name": "stdout"
        }
      ]
    },
    {
      "cell_type": "code",
      "metadata": {
        "id": "8MDccnZU3taT",
        "colab_type": "code",
        "colab": {
          "base_uri": "https://localhost:8080/",
          "height": 544
        },
        "outputId": "e783b06a-a862-4b6d-c61c-c0cb7ec66231"
      },
      "source": [
        "!telnet data.pr4e.org 80\n",
        "# need to enter GET /index.html HTTP/1.0 or whatever  and press enter twice\n",
        "#Here entered GET http://data.pr4e.org/intro-short.txt HTTP/1.0 and pressed enter twice"
      ],
      "execution_count": 26,
      "outputs": [
        {
          "output_type": "stream",
          "text": [
            "Trying 192.241.136.170...\n",
            "Connected to data.pr4e.org.\n",
            "Escape character is '^]'.\n",
            "GET http://data.pr4e.org/intro-short.txt HTTP/1.0\n",
            "\n",
            "HTTP/1.1 200 OK\n",
            "Date: Wed, 12 Jun 2019 18:32:24 GMT\n",
            "Server: Apache/2.4.18 (Ubuntu)\n",
            "Last-Modified: Sat, 13 May 2017 11:22:22 GMT\n",
            "ETag: \"1d3-54f6609240717\"\n",
            "Accept-Ranges: bytes\n",
            "Content-Length: 467\n",
            "Cache-Control: max-age=0, no-cache, no-store, must-revalidate\n",
            "Pragma: no-cache\n",
            "Expires: Wed, 11 Jan 1984 05:00:00 GMT\n",
            "Connection: close\n",
            "Content-Type: text/plain\n",
            "\n",
            "Why should you learn to write programs?\n",
            "\n",
            "Writing programs (or programming) is a very creative \n",
            "and rewarding activity.  You can write programs for \n",
            "many reasons, ranging from making your living to solving\n",
            "a difficult data analysis problem to having fun to helping\n",
            "someone else solve a problem.  This book assumes that \n",
            "everyone needs to know how to program, and that once \n",
            "you know how to program you will figure out what you want \n",
            "to do with your newfound skills.  \n",
            "Connection closed by foreign host.\n"
          ],
          "name": "stdout"
        }
      ]
    },
    {
      "cell_type": "markdown",
      "metadata": {
        "id": "ptQXFJ4u67zj",
        "colab_type": "text"
      },
      "source": [
        "### Socket Method"
      ]
    },
    {
      "cell_type": "code",
      "metadata": {
        "id": "rjM3C0Ai3yjE",
        "colab_type": "code",
        "colab": {
          "base_uri": "https://localhost:8080/",
          "height": 435
        },
        "outputId": "41817e55-4519-4c64-9d3a-cfdbcf4a115d"
      },
      "source": [
        "import socket\n",
        "\n",
        "mysock = socket.socket(socket.AF_INET, socket.SOCK_STREAM)\n",
        "mysock.connect(('data.pr4e.org', 80))\n",
        "cmd = 'GET http://data.pr4e.org/intro-short.txt HTTP/1.0\\r\\n\\r\\n'.encode()\n",
        "mysock.send(cmd)\n",
        "\n",
        "while True:\n",
        "    data = mysock.recv(512)\n",
        "    if len(data) < 1:\n",
        "        break\n",
        "    print(data.decode(),end='')\n",
        "\n",
        "mysock.close()"
      ],
      "execution_count": 23,
      "outputs": [
        {
          "output_type": "stream",
          "text": [
            "HTTP/1.1 200 OK\r\n",
            "Date: Wed, 12 Jun 2019 18:31:08 GMT\r\n",
            "Server: Apache/2.4.18 (Ubuntu)\r\n",
            "Last-Modified: Sat, 13 May 2017 11:22:22 GMT\r\n",
            "ETag: \"1d3-54f6609240717\"\r\n",
            "Accept-Ranges: bytes\r\n",
            "Content-Length: 467\r\n",
            "Cache-Control: max-age=0, no-cache, no-store, must-revalidate\r\n",
            "Pragma: no-cache\r\n",
            "Expires: Wed, 11 Jan 1984 05:00:00 GMT\r\n",
            "Connection: close\r\n",
            "Content-Type: text/plain\r\n",
            "\r\n",
            "Why should you learn to write programs?\n",
            "\n",
            "Writing programs (or programming) is a very creative \n",
            "and rewarding activity.  You can write programs for \n",
            "many reasons, ranging from making your living to solving\n",
            "a difficult data analysis problem to having fun to helping\n",
            "someone else solve a problem.  This book assumes that \n",
            "everyone needs to know how to program, and that once \n",
            "you know how to program you will figure out what you want \n",
            "to do with your newfound skills.  \n"
          ],
          "name": "stdout"
        }
      ]
    },
    {
      "cell_type": "code",
      "metadata": {
        "id": "HWN_U9ZK9UR_",
        "colab_type": "code",
        "colab": {
          "base_uri": "https://localhost:8080/",
          "height": 53
        },
        "outputId": "6f0178ff-57e4-4df3-b9a9-995ad52a0770"
      },
      "source": [
        "print(ord('H'))\n",
        "print(ord('\\n'))#in decimal represent machine binary code\n",
        "# ord function tells simple numeric value of a ASCII character\n",
        "# 1 byte 8 bits"
      ],
      "execution_count": 29,
      "outputs": [
        {
          "output_type": "stream",
          "text": [
            "72\n",
            "10\n"
          ],
          "name": "stdout"
        }
      ]
    },
    {
      "cell_type": "code",
      "metadata": {
        "id": "68sHgAj7-xtH",
        "colab_type": "code",
        "colab": {
          "base_uri": "https://localhost:8080/",
          "height": 35
        },
        "outputId": "65f598f7-89f9-4189-9a1a-a75e09b22da3"
      },
      "source": [
        "x='0h'\n",
        "type(x)"
      ],
      "execution_count": 30,
      "outputs": [
        {
          "output_type": "execute_result",
          "data": {
            "text/plain": [
              "str"
            ]
          },
          "metadata": {
            "tags": []
          },
          "execution_count": 30
        }
      ]
    },
    {
      "cell_type": "code",
      "metadata": {
        "id": "oGrFoUw8BEFp",
        "colab_type": "code",
        "colab": {
          "base_uri": "https://localhost:8080/",
          "height": 35
        },
        "outputId": "32e804ec-b18c-4e32-88b7-67c60010eb10"
      },
      "source": [
        "x=u'0h2'\n",
        "type(x) #python 3 has everything string unlike python 2 which differientiates unicode\n",
        "#byte and string same in python2 only python 3 unicode differnet\n",
        "\n",
        "# encode and decode will convert it to string class in which everythin is represented in python 3\n",
        "# default is utf8"
      ],
      "execution_count": 33,
      "outputs": [
        {
          "output_type": "execute_result",
          "data": {
            "text/plain": [
              "str"
            ]
          },
          "metadata": {
            "tags": []
          },
          "execution_count": 33
        }
      ]
    },
    {
      "cell_type": "code",
      "metadata": {
        "id": "3ZpsQxz0BIOH",
        "colab_type": "code",
        "colab": {
          "base_uri": "https://localhost:8080/",
          "height": 310
        },
        "outputId": "dd233a10-19e1-4949-fc4c-cfd91fd7e273"
      },
      "source": [
        "!wget -O bs4 http://www.py4e.com/code3/bs4.zip"
      ],
      "execution_count": 34,
      "outputs": [
        {
          "output_type": "stream",
          "text": [
            "--2019-06-12 19:27:04--  http://www.py4e.com/code3/bs4.zip\n",
            "Resolving www.py4e.com (www.py4e.com)... 104.27.159.166, 104.27.158.166, 2606:4700:30::681b:9fa6, ...\n",
            "Connecting to www.py4e.com (www.py4e.com)|104.27.159.166|:80... connected.\n",
            "HTTP request sent, awaiting response... 301 Moved Permanently\n",
            "Location: https://www.py4e.com/code3/bs4.zip [following]\n",
            "--2019-06-12 19:27:04--  https://www.py4e.com/code3/bs4.zip\n",
            "Connecting to www.py4e.com (www.py4e.com)|104.27.159.166|:443... connected.\n",
            "HTTP request sent, awaiting response... 200 OK\n",
            "Length: 79350 (77K) [application/zip]\n",
            "Saving to: ‘bs4’\n",
            "\n",
            "bs4                 100%[===================>]  77.49K  --.-KB/s    in 0.1s    \n",
            "\n",
            "2019-06-12 19:27:05 (728 KB/s) - ‘bs4’ saved [79350/79350]\n",
            "\n"
          ],
          "name": "stdout"
        }
      ]
    },
    {
      "cell_type": "code",
      "metadata": {
        "id": "26hsVRmZKHaQ",
        "colab_type": "code",
        "colab": {
          "base_uri": "https://localhost:8080/",
          "height": 35
        },
        "outputId": "d03e7382-db9b-420f-e86d-776a6cd61c63"
      },
      "source": [
        "!ls"
      ],
      "execution_count": 35,
      "outputs": [
        {
          "output_type": "stream",
          "text": [
            "bs4  sample_data\n"
          ],
          "name": "stdout"
        }
      ]
    },
    {
      "cell_type": "code",
      "metadata": {
        "id": "T815SqQdKILO",
        "colab_type": "code",
        "colab": {}
      },
      "source": [
        ""
      ],
      "execution_count": 0,
      "outputs": []
    }
  ]
}